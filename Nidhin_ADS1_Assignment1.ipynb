{
 "cells": [
  {
   "cell_type": "markdown",
   "id": "517a0f0f",
   "metadata": {},
   "source": [
    "# Introduction"
   ]
  },
  {
   "cell_type": "raw",
   "id": "37a73815",
   "metadata": {},
   "source": [
    "Dataset Title: UEFA Euro Cup 2020 \n",
    "Dataset source:https://www.kaggle.com/mcarujo/euro-cup-2020\n",
    "Goals: Understanding the Euro2020 dataset and analysing the tournament. "
   ]
  },
  {
   "cell_type": "markdown",
   "id": "0bcc18d3",
   "metadata": {},
   "source": [
    "# Loading Libraries"
   ]
  },
  {
   "cell_type": "code",
   "execution_count": 1,
   "id": "76dd1f09",
   "metadata": {},
   "outputs": [],
   "source": [
    "#importing Libraries\n",
    "import numpy as np \n",
    "import pandas as pd\n",
    "import scipy.stats as stats\n",
    "import matplotlib.pyplot as plt\n",
    "import seaborn as sns"
   ]
  },
  {
   "cell_type": "markdown",
   "id": "139d2430",
   "metadata": {},
   "source": [
    "# Reading the .csv file and inspecting contents"
   ]
  },
  {
   "cell_type": "code",
   "execution_count": 2,
   "id": "c5e412f6",
   "metadata": {},
   "outputs": [
    {
     "data": {
      "text/html": [
       "<div>\n",
       "<style scoped>\n",
       "    .dataframe tbody tr th:only-of-type {\n",
       "        vertical-align: middle;\n",
       "    }\n",
       "\n",
       "    .dataframe tbody tr th {\n",
       "        vertical-align: top;\n",
       "    }\n",
       "\n",
       "    .dataframe thead th {\n",
       "        text-align: right;\n",
       "    }\n",
       "</style>\n",
       "<table border=\"1\" class=\"dataframe\">\n",
       "  <thead>\n",
       "    <tr style=\"text-align: right;\">\n",
       "      <th></th>\n",
       "      <th>stage</th>\n",
       "      <th>date</th>\n",
       "      <th>pens</th>\n",
       "      <th>pens_home_score</th>\n",
       "      <th>pens_away_score</th>\n",
       "      <th>team_name_home</th>\n",
       "      <th>team_name_away</th>\n",
       "      <th>team_home_score</th>\n",
       "      <th>team_away_score</th>\n",
       "      <th>possession_home</th>\n",
       "      <th>possession_away</th>\n",
       "      <th>total_shots_home</th>\n",
       "      <th>total_shots_away</th>\n",
       "      <th>shots_on_target_home</th>\n",
       "      <th>shots_on_target_away</th>\n",
       "      <th>duels_won_home</th>\n",
       "      <th>duels_won_away</th>\n",
       "      <th>events_list</th>\n",
       "      <th>lineup_home</th>\n",
       "      <th>lineup_away</th>\n",
       "    </tr>\n",
       "  </thead>\n",
       "  <tbody>\n",
       "    <tr>\n",
       "      <th>0</th>\n",
       "      <td>Final</td>\n",
       "      <td>11.07.2021</td>\n",
       "      <td>True</td>\n",
       "      <td>3</td>\n",
       "      <td>2</td>\n",
       "      <td>Italy</td>\n",
       "      <td>England</td>\n",
       "      <td>1</td>\n",
       "      <td>1</td>\n",
       "      <td>66%</td>\n",
       "      <td>34%</td>\n",
       "      <td>19</td>\n",
       "      <td>6</td>\n",
       "      <td>6</td>\n",
       "      <td>2</td>\n",
       "      <td>53%</td>\n",
       "      <td>47%</td>\n",
       "      <td>[{'event_team': 'away', 'event_time': \" 2' \", ...</td>\n",
       "      <td>[{'Player_Name': 'Insigne', 'Player_Number': '...</td>\n",
       "      <td>[{'Player_Name': 'Kane', 'Player_Number': '9'}...</td>\n",
       "    </tr>\n",
       "    <tr>\n",
       "      <th>1</th>\n",
       "      <td>Semi-finals</td>\n",
       "      <td>07.07.2021</td>\n",
       "      <td>False</td>\n",
       "      <td>False</td>\n",
       "      <td>False</td>\n",
       "      <td>England</td>\n",
       "      <td>Denmark</td>\n",
       "      <td>2</td>\n",
       "      <td>1</td>\n",
       "      <td>59%</td>\n",
       "      <td>41%</td>\n",
       "      <td>20</td>\n",
       "      <td>6</td>\n",
       "      <td>10</td>\n",
       "      <td>3</td>\n",
       "      <td>50%</td>\n",
       "      <td>50%</td>\n",
       "      <td>[{'event_team': 'away', 'event_time': \" 30' \",...</td>\n",
       "      <td>[{'Player_Name': 'Kane', 'Player_Number': '9'}...</td>\n",
       "      <td>[{'Player_Name': 'Krogh Damsgaard', 'Player_Nu...</td>\n",
       "    </tr>\n",
       "    <tr>\n",
       "      <th>2</th>\n",
       "      <td>Semi-finals</td>\n",
       "      <td>06.07.2021</td>\n",
       "      <td>True</td>\n",
       "      <td>4</td>\n",
       "      <td>2</td>\n",
       "      <td>Italy</td>\n",
       "      <td>Spain</td>\n",
       "      <td>1</td>\n",
       "      <td>1</td>\n",
       "      <td>29%</td>\n",
       "      <td>71%</td>\n",
       "      <td>7</td>\n",
       "      <td>16</td>\n",
       "      <td>4</td>\n",
       "      <td>5</td>\n",
       "      <td>49%</td>\n",
       "      <td>51%</td>\n",
       "      <td>[{'event_team': 'away', 'event_time': \" 51' \",...</td>\n",
       "      <td>[{'Player_Name': 'Insigne', 'Player_Number': '...</td>\n",
       "      <td>[{'Player_Name': 'Torres', 'Player_Number': '1...</td>\n",
       "    </tr>\n",
       "    <tr>\n",
       "      <th>3</th>\n",
       "      <td>Quarter-finals</td>\n",
       "      <td>03.07.2021</td>\n",
       "      <td>False</td>\n",
       "      <td>False</td>\n",
       "      <td>False</td>\n",
       "      <td>Ukraine</td>\n",
       "      <td>England</td>\n",
       "      <td>0</td>\n",
       "      <td>4</td>\n",
       "      <td>48%</td>\n",
       "      <td>52%</td>\n",
       "      <td>7</td>\n",
       "      <td>10</td>\n",
       "      <td>2</td>\n",
       "      <td>6</td>\n",
       "      <td>42%</td>\n",
       "      <td>59%</td>\n",
       "      <td>[{'event_team': 'away', 'event_time': \" 4' \", ...</td>\n",
       "      <td>[{'Player_Name': 'Yaremchuk', 'Player_Number':...</td>\n",
       "      <td>[{'Player_Name': 'Kane', 'Player_Number': '9'}...</td>\n",
       "    </tr>\n",
       "    <tr>\n",
       "      <th>4</th>\n",
       "      <td>Quarter-finals</td>\n",
       "      <td>03.07.2021</td>\n",
       "      <td>False</td>\n",
       "      <td>False</td>\n",
       "      <td>False</td>\n",
       "      <td>Czech Republic</td>\n",
       "      <td>Denmark</td>\n",
       "      <td>1</td>\n",
       "      <td>2</td>\n",
       "      <td>56%</td>\n",
       "      <td>44%</td>\n",
       "      <td>16</td>\n",
       "      <td>11</td>\n",
       "      <td>5</td>\n",
       "      <td>7</td>\n",
       "      <td>48%</td>\n",
       "      <td>52%</td>\n",
       "      <td>[{'event_team': 'away', 'event_time': \" 5' \", ...</td>\n",
       "      <td>[{'Player_Name': 'Schick', 'Player_Number': '1...</td>\n",
       "      <td>[{'Player_Name': 'Dolberg', 'Player_Number': '...</td>\n",
       "    </tr>\n",
       "  </tbody>\n",
       "</table>\n",
       "</div>"
      ],
      "text/plain": [
       "              stage          date   pens pens_home_score pens_away_score  \\\n",
       "0            Final     11.07.2021   True               3               2   \n",
       "1      Semi-finals    07.07.2021   False           False           False   \n",
       "2      Semi-finals     06.07.2021   True               4               2   \n",
       "3   Quarter-finals    03.07.2021   False           False           False   \n",
       "4   Quarter-finals    03.07.2021   False           False           False   \n",
       "\n",
       "     team_name_home team_name_away  team_home_score  team_away_score  \\\n",
       "0            Italy        England                 1                1   \n",
       "1          England        Denmark                 2                1   \n",
       "2            Italy          Spain                 1                1   \n",
       "3          Ukraine        England                 0                4   \n",
       "4   Czech Republic        Denmark                 1                2   \n",
       "\n",
       "  possession_home possession_away  total_shots_home  total_shots_away  \\\n",
       "0             66%            34%                 19                 6   \n",
       "1             59%            41%                 20                 6   \n",
       "2             29%            71%                  7                16   \n",
       "3             48%            52%                  7                10   \n",
       "4             56%            44%                 16                11   \n",
       "\n",
       "   shots_on_target_home  shots_on_target_away duels_won_home duels_won_away  \\\n",
       "0                     6                     2            53%           47%    \n",
       "1                    10                     3            50%           50%    \n",
       "2                     4                     5            49%           51%    \n",
       "3                     2                     6            42%           59%    \n",
       "4                     5                     7            48%           52%    \n",
       "\n",
       "                                         events_list  \\\n",
       "0  [{'event_team': 'away', 'event_time': \" 2' \", ...   \n",
       "1  [{'event_team': 'away', 'event_time': \" 30' \",...   \n",
       "2  [{'event_team': 'away', 'event_time': \" 51' \",...   \n",
       "3  [{'event_team': 'away', 'event_time': \" 4' \", ...   \n",
       "4  [{'event_team': 'away', 'event_time': \" 5' \", ...   \n",
       "\n",
       "                                         lineup_home  \\\n",
       "0  [{'Player_Name': 'Insigne', 'Player_Number': '...   \n",
       "1  [{'Player_Name': 'Kane', 'Player_Number': '9'}...   \n",
       "2  [{'Player_Name': 'Insigne', 'Player_Number': '...   \n",
       "3  [{'Player_Name': 'Yaremchuk', 'Player_Number':...   \n",
       "4  [{'Player_Name': 'Schick', 'Player_Number': '1...   \n",
       "\n",
       "                                         lineup_away  \n",
       "0  [{'Player_Name': 'Kane', 'Player_Number': '9'}...  \n",
       "1  [{'Player_Name': 'Krogh Damsgaard', 'Player_Nu...  \n",
       "2  [{'Player_Name': 'Torres', 'Player_Number': '1...  \n",
       "3  [{'Player_Name': 'Kane', 'Player_Number': '9'}...  \n",
       "4  [{'Player_Name': 'Dolberg', 'Player_Number': '...  "
      ]
     },
     "execution_count": 2,
     "metadata": {},
     "output_type": "execute_result"
    }
   ],
   "source": [
    "#Reading .csv file\n",
    "df = pd.read_csv('eurocup_2020_results.csv') #Reading .csv file\n",
    "\n",
    "#Looking at the first 5 rows\n",
    "df.head()"
   ]
  },
  {
   "cell_type": "code",
   "execution_count": 3,
   "id": "c6a702fc",
   "metadata": {},
   "outputs": [
    {
     "data": {
      "text/plain": [
       "(51, 20)"
      ]
     },
     "execution_count": 3,
     "metadata": {},
     "output_type": "execute_result"
    }
   ],
   "source": [
    "#looking at the size of the csv table (rows,calumn)\n",
    "df.shape"
   ]
  },
  {
   "cell_type": "code",
   "execution_count": 4,
   "id": "0851fb94",
   "metadata": {},
   "outputs": [
    {
     "data": {
      "text/plain": [
       "stage                   object\n",
       "date                    object\n",
       "pens                      bool\n",
       "pens_home_score         object\n",
       "pens_away_score         object\n",
       "team_name_home          object\n",
       "team_name_away          object\n",
       "team_home_score          int64\n",
       "team_away_score          int64\n",
       "possession_home         object\n",
       "possession_away         object\n",
       "total_shots_home         int64\n",
       "total_shots_away         int64\n",
       "shots_on_target_home     int64\n",
       "shots_on_target_away     int64\n",
       "duels_won_home          object\n",
       "duels_won_away          object\n",
       "events_list             object\n",
       "lineup_home             object\n",
       "lineup_away             object\n",
       "dtype: object"
      ]
     },
     "execution_count": 4,
     "metadata": {},
     "output_type": "execute_result"
    }
   ],
   "source": [
    "#Looking at the column names and data types\n",
    "df.dtypes"
   ]
  },
  {
   "cell_type": "markdown",
   "id": "970d0e68",
   "metadata": {},
   "source": [
    "# Statistical Analysis"
   ]
  },
  {
   "cell_type": "raw",
   "id": "c86e0e08",
   "metadata": {},
   "source": [
    "Statistical overview → Euro2020Cup Dataset"
   ]
  },
  {
   "cell_type": "code",
   "execution_count": 5,
   "id": "e5ad7d7a",
   "metadata": {},
   "outputs": [
    {
     "data": {
      "text/html": [
       "<div>\n",
       "<style scoped>\n",
       "    .dataframe tbody tr th:only-of-type {\n",
       "        vertical-align: middle;\n",
       "    }\n",
       "\n",
       "    .dataframe tbody tr th {\n",
       "        vertical-align: top;\n",
       "    }\n",
       "\n",
       "    .dataframe thead th {\n",
       "        text-align: right;\n",
       "    }\n",
       "</style>\n",
       "<table border=\"1\" class=\"dataframe\">\n",
       "  <thead>\n",
       "    <tr style=\"text-align: right;\">\n",
       "      <th></th>\n",
       "      <th>team_home_score</th>\n",
       "      <th>team_away_score</th>\n",
       "      <th>total_shots_home</th>\n",
       "      <th>total_shots_away</th>\n",
       "      <th>shots_on_target_home</th>\n",
       "      <th>shots_on_target_away</th>\n",
       "    </tr>\n",
       "  </thead>\n",
       "  <tbody>\n",
       "    <tr>\n",
       "      <th>count</th>\n",
       "      <td>51.000000</td>\n",
       "      <td>51.000000</td>\n",
       "      <td>51.000000</td>\n",
       "      <td>51.000000</td>\n",
       "      <td>51.000000</td>\n",
       "      <td>51.000000</td>\n",
       "    </tr>\n",
       "    <tr>\n",
       "      <th>mean</th>\n",
       "      <td>1.196078</td>\n",
       "      <td>1.588235</td>\n",
       "      <td>12.137255</td>\n",
       "      <td>12.235294</td>\n",
       "      <td>3.803922</td>\n",
       "      <td>4.352941</td>\n",
       "    </tr>\n",
       "    <tr>\n",
       "      <th>std</th>\n",
       "      <td>1.077397</td>\n",
       "      <td>1.344269</td>\n",
       "      <td>6.190378</td>\n",
       "      <td>5.788223</td>\n",
       "      <td>2.545738</td>\n",
       "      <td>2.681966</td>\n",
       "    </tr>\n",
       "    <tr>\n",
       "      <th>min</th>\n",
       "      <td>0.000000</td>\n",
       "      <td>0.000000</td>\n",
       "      <td>3.000000</td>\n",
       "      <td>1.000000</td>\n",
       "      <td>0.000000</td>\n",
       "      <td>0.000000</td>\n",
       "    </tr>\n",
       "    <tr>\n",
       "      <th>25%</th>\n",
       "      <td>0.000000</td>\n",
       "      <td>1.000000</td>\n",
       "      <td>7.000000</td>\n",
       "      <td>8.500000</td>\n",
       "      <td>2.000000</td>\n",
       "      <td>2.000000</td>\n",
       "    </tr>\n",
       "    <tr>\n",
       "      <th>50%</th>\n",
       "      <td>1.000000</td>\n",
       "      <td>1.000000</td>\n",
       "      <td>11.000000</td>\n",
       "      <td>11.000000</td>\n",
       "      <td>4.000000</td>\n",
       "      <td>4.000000</td>\n",
       "    </tr>\n",
       "    <tr>\n",
       "      <th>75%</th>\n",
       "      <td>2.000000</td>\n",
       "      <td>2.000000</td>\n",
       "      <td>17.000000</td>\n",
       "      <td>16.000000</td>\n",
       "      <td>6.000000</td>\n",
       "      <td>6.500000</td>\n",
       "    </tr>\n",
       "    <tr>\n",
       "      <th>max</th>\n",
       "      <td>3.000000</td>\n",
       "      <td>5.000000</td>\n",
       "      <td>27.000000</td>\n",
       "      <td>28.000000</td>\n",
       "      <td>10.000000</td>\n",
       "      <td>10.000000</td>\n",
       "    </tr>\n",
       "  </tbody>\n",
       "</table>\n",
       "</div>"
      ],
      "text/plain": [
       "       team_home_score  team_away_score  total_shots_home  total_shots_away  \\\n",
       "count        51.000000        51.000000         51.000000         51.000000   \n",
       "mean          1.196078         1.588235         12.137255         12.235294   \n",
       "std           1.077397         1.344269          6.190378          5.788223   \n",
       "min           0.000000         0.000000          3.000000          1.000000   \n",
       "25%           0.000000         1.000000          7.000000          8.500000   \n",
       "50%           1.000000         1.000000         11.000000         11.000000   \n",
       "75%           2.000000         2.000000         17.000000         16.000000   \n",
       "max           3.000000         5.000000         27.000000         28.000000   \n",
       "\n",
       "       shots_on_target_home  shots_on_target_away  \n",
       "count             51.000000             51.000000  \n",
       "mean               3.803922              4.352941  \n",
       "std                2.545738              2.681966  \n",
       "min                0.000000              0.000000  \n",
       "25%                2.000000              2.000000  \n",
       "50%                4.000000              4.000000  \n",
       "75%                6.000000              6.500000  \n",
       "max               10.000000             10.000000  "
      ]
     },
     "execution_count": 5,
     "metadata": {},
     "output_type": "execute_result"
    }
   ],
   "source": [
    "#Statistical overview: Count, Mean, Min, MAx, Standard Deviation and Quartiles\n",
    "df.describe()"
   ]
  },
  {
   "cell_type": "raw",
   "id": "d5842fd7",
   "metadata": {},
   "source": [
    "Mean → Team Home Score"
   ]
  },
  {
   "cell_type": "code",
   "execution_count": 6,
   "id": "a11001da",
   "metadata": {},
   "outputs": [
    {
     "data": {
      "text/plain": [
       "1.196078431372549"
      ]
     },
     "execution_count": 6,
     "metadata": {},
     "output_type": "execute_result"
    }
   ],
   "source": [
    "#Mean\n",
    "df['team_home_score'].mean(axis=0)"
   ]
  },
  {
   "cell_type": "raw",
   "id": "fcd2a732",
   "metadata": {},
   "source": [
    "Median → Team Home Score"
   ]
  },
  {
   "cell_type": "code",
   "execution_count": 7,
   "id": "96d9f1e9",
   "metadata": {},
   "outputs": [
    {
     "data": {
      "text/plain": [
       "1.0"
      ]
     },
     "execution_count": 7,
     "metadata": {},
     "output_type": "execute_result"
    }
   ],
   "source": [
    "#Median\n",
    "df['team_home_score'].median(axis=0)"
   ]
  },
  {
   "cell_type": "raw",
   "id": "24b45963",
   "metadata": {},
   "source": [
    "Standard Deviation → Team Home Score"
   ]
  },
  {
   "cell_type": "code",
   "execution_count": 8,
   "id": "2b00b16e",
   "metadata": {},
   "outputs": [
    {
     "data": {
      "text/plain": [
       "1.0773970084075275"
      ]
     },
     "execution_count": 8,
     "metadata": {},
     "output_type": "execute_result"
    }
   ],
   "source": [
    "#Standard Deviation\n",
    "df['team_home_score'].std(axis=0)"
   ]
  },
  {
   "cell_type": "raw",
   "id": "d57635c3",
   "metadata": {},
   "source": [
    "Variance → Team Home Score"
   ]
  },
  {
   "cell_type": "code",
   "execution_count": 9,
   "id": "bfad171a",
   "metadata": {},
   "outputs": [
    {
     "data": {
      "text/plain": [
       "1.16078431372549"
      ]
     },
     "execution_count": 9,
     "metadata": {},
     "output_type": "execute_result"
    }
   ],
   "source": [
    "#Variance\n",
    "df['team_home_score'].var(axis=0)"
   ]
  },
  {
   "cell_type": "raw",
   "id": "4f21a6aa",
   "metadata": {},
   "source": [
    "Spearman Correlation → Possession Home, Team Home Score"
   ]
  },
  {
   "cell_type": "code",
   "execution_count": 10,
   "id": "8d869524",
   "metadata": {},
   "outputs": [
    {
     "data": {
      "text/plain": [
       "SpearmanrResult(correlation=0.13174170714134786, pvalue=0.3567763980277474)"
      ]
     },
     "execution_count": 10,
     "metadata": {},
     "output_type": "execute_result"
    }
   ],
   "source": [
    "#Spearman Correlation\n",
    "stats.spearmanr(df['possession_home'], df['team_home_score'])"
   ]
  },
  {
   "cell_type": "raw",
   "id": "fd51eb1b",
   "metadata": {},
   "source": [
    "Kolmogorov-Smirnov → Total Shots Home, Team Home Score"
   ]
  },
  {
   "cell_type": "code",
   "execution_count": 11,
   "id": "b867da73",
   "metadata": {},
   "outputs": [
    {
     "data": {
      "text/plain": [
       "KstestResult(statistic=0.9607843137254902, pvalue=2.5780209508709103e-26)"
      ]
     },
     "execution_count": 11,
     "metadata": {},
     "output_type": "execute_result"
    }
   ],
   "source": [
    "#Kolmogorov-Smirnov statistic on 2 samples\n",
    "stats.ks_2samp(df['total_shots_home'], df['team_home_score'])"
   ]
  },
  {
   "cell_type": "markdown",
   "id": "e25d2d86",
   "metadata": {},
   "source": [
    "# EUR2020 Data Analysis"
   ]
  },
  {
   "cell_type": "raw",
   "id": "542e3baf",
   "metadata": {},
   "source": [
    "Euro2020: Stages and Games played"
   ]
  },
  {
   "cell_type": "code",
   "execution_count": 12,
   "id": "b87a20de",
   "metadata": {},
   "outputs": [
    {
     "name": "stdout",
     "output_type": "stream",
     "text": [
      "Tournament structure and games played:\n",
      "\n",
      " Group stage: Matchday 3     12\n",
      " Group stage: Matchday 2     12\n",
      " Group stage: Matchday 1     12\n",
      " Round of 16                  8\n",
      " Quarter-finals               4\n",
      " Semi-finals                  2\n",
      " Final                        1\n",
      "Name: stage, dtype: int64\n",
      "\n",
      "A total of 51 matches were played in Euro2020\n"
     ]
    }
   ],
   "source": [
    "# Looking for unique rows under column stage\n",
    "stage = df.drop_duplicates(subset = [\"stage\"])\n",
    "\n",
    "#print(df['stage'].value_counts())\n",
    "print(f\"Tournament structure and games played:\\n\\n{df['stage'].value_counts()}\")\n",
    "\n",
    "total_matches = len(df['stage'])\n",
    "print(f\"\\nA total of {total_matches} matches were played in Euro2020\")\n",
    "#print(f\"Road to  the finals:\\n {stage.stage.to_string(index=False)}\")"
   ]
  },
  {
   "cell_type": "raw",
   "id": "c6952ab8",
   "metadata": {},
   "source": [
    "Euro2020: Start, End Date and Duration"
   ]
  },
  {
   "cell_type": "code",
   "execution_count": 13,
   "id": "3fad59b9",
   "metadata": {},
   "outputs": [
    {
     "name": "stdout",
     "output_type": "stream",
     "text": [
      "Tournament Start Date: 2021-06-11\n",
      "Tournament End Date  : 2021-07-11\n",
      "\n",
      "Tournament Duration  : 30 days\n"
     ]
    }
   ],
   "source": [
    "#Finding the start and the end date of the tournamnent\n",
    "df.date = df.date.str.strip()\n",
    "df.date = pd.to_datetime(df.date, format='%d.%m.%Y')\n",
    "print (f\"Tournament Start Date: {df.date.min().date()}\")\n",
    "print (f\"Tournament End Date  : {df.date.max().date()}\")\n",
    "\n",
    "#Finading the duration of the tournament\n",
    "delta = df.date.max() - df.date.min()\n",
    "print(f\"\\nTournament Duration  : {delta.days} days\")"
   ]
  },
  {
   "cell_type": "raw",
   "id": "66f2070f",
   "metadata": {},
   "source": [
    "Euro2020: Participating Teams"
   ]
  },
  {
   "cell_type": "code",
   "execution_count": 14,
   "id": "aa55f5e3",
   "metadata": {},
   "outputs": [
    {
     "name": "stdout",
     "output_type": "stream",
     "text": [
      "Participating Teams:\n",
      "           Italy \n",
      "         England \n",
      "         Ukraine \n",
      "  Czech Republic \n",
      "         Belgium \n",
      "     Switzerland \n",
      "          Sweden \n",
      "          France \n",
      "         Croatia \n",
      "     Netherlands \n",
      "           Wales \n",
      "        Portugal \n",
      "         Germany \n",
      "        Slovakia \n",
      "         Finland \n",
      "          Russia \n",
      " North Macedonia \n",
      "           Spain \n",
      "         Hungary \n",
      "         Denmark \n",
      "          Turkey \n",
      "          Poland \n",
      "        Scotland \n",
      "         Austria \n"
     ]
    }
   ],
   "source": [
    "# Looking for unique rows under column stage\n",
    "teams = df.drop_duplicates(subset = [\"team_name_home\"])\n",
    "print(f\"Participating Teams:\\n{teams.team_name_home.to_string(index=False)}\")"
   ]
  },
  {
   "cell_type": "raw",
   "id": "0209c76e",
   "metadata": {},
   "source": [
    "Euro2020: Goals scored in the tournament, average goals and minutes per goal"
   ]
  },
  {
   "cell_type": "code",
   "execution_count": 15,
   "id": "47d8e77b",
   "metadata": {},
   "outputs": [
    {
     "name": "stdout",
     "output_type": "stream",
     "text": [
      "Total goals scored in the tournament: 142\n",
      "\n",
      "Average goal per game: 2.78\n",
      "\n",
      "Minutes per goal: 32'\n"
     ]
    }
   ],
   "source": [
    "#Total goals scored in the tournament\n",
    "total_goals = df['team_home_score'].sum() + df['team_away_score'].sum()\n",
    "print(f\"Total goals scored in the tournament: {total_goals}\\n\")\n",
    "\n",
    "#Avergae goals scored per game\n",
    "average_goals = round(total_goals/total_matches, 2)\n",
    "print(f\"Average goal per game: {average_goals}\\n\")\n",
    "\n",
    "#Minutes per goal\n",
    "minutes_per_goal = round(total_matches*90/total_goals)\n",
    "print(f\"Minutes per goal: {minutes_per_goal}'\")"
   ]
  },
  {
   "cell_type": "raw",
   "id": "1a488c2f",
   "metadata": {},
   "source": [
    "Euro2020: Reformating data types for suitable analysis"
   ]
  },
  {
   "cell_type": "code",
   "execution_count": 16,
   "id": "b18f3953",
   "metadata": {},
   "outputs": [],
   "source": [
    "#Changing datatype from object to well formatted string\n",
    "df.team_name_home = df.team_name_home.str.strip()\n",
    "\n",
    "#Changing datatype from object to int64 for computation\n",
    "df.possession_home = df.possession_home.str.rstrip('%').astype('int64')\n",
    "df.duels_won_home = df.duels_won_home.str.strip('%').astype('int64')"
   ]
  },
  {
   "cell_type": "raw",
   "id": "1c343947",
   "metadata": {},
   "source": [
    "Euro2020: Sorting for Teams winning at home"
   ]
  },
  {
   "cell_type": "code",
   "execution_count": 17,
   "id": "05db6566",
   "metadata": {},
   "outputs": [],
   "source": [
    "hometeam_wins = df[df['team_home_score'] > df['team_away_score']]"
   ]
  },
  {
   "cell_type": "markdown",
   "id": "d22d1496",
   "metadata": {},
   "source": [
    "Euro2020: Teams winning at Home vs Ball Possession"
   ]
  },
  {
   "cell_type": "code",
   "execution_count": 18,
   "id": "5cf67604",
   "metadata": {},
   "outputs": [
    {
     "data": {
      "image/png": "[encoded data removed]",
      "text/plain": [
       "<Figure size 720x360 with 1 Axes>"
      ]
     },
     "metadata": {
      "needs_background": "light"
     },
     "output_type": "display_data"
    }
   ],
   "source": [
    "#Using seaborn categorical plot\n",
    "sns.catplot(x=\"team_name_home\", y=\"possession_home\", data=hometeam_wins, hue='possession_home',\n",
    "            jitter=False, legend=False, height=5, aspect=2)\n",
    "\n",
    "plt.title('Euro2020: Teams winning at Home vs Ball Possession', fontsize=20, pad=35)\n",
    "\n",
    "plt.xlabel('Teams Winning at Home', fontsize=12, labelpad=15)\n",
    "plt.xticks(fontsize=10)\n",
    "\n",
    "plt.ylabel('Ball Possession [in%]', fontsize=12, labelpad=10)\n",
    "plt.yticks(fontsize=10)\n",
    "\n",
    "plt.legend(title='Ball Possession [in%]', bbox_to_anchor=(1, 1))\n",
    "\n",
    "plt.grid()#showing gridlines"
   ]
  },
  {
   "cell_type": "raw",
   "id": "903f12ad",
   "metadata": {},
   "source": [
    "Euro2020: Teams winning at Home vs Shots on target"
   ]
  },
  {
   "cell_type": "code",
   "execution_count": 19,
   "id": "20db6a9c",
   "metadata": {},
   "outputs": [
    {
     "data": {
      "image/png": "[encoded data removed]",
      "text/plain": [
       "<Figure size 720x360 with 1 Axes>"
      ]
     },
     "metadata": {
      "needs_background": "light"
     },
     "output_type": "display_data"
    }
   ],
   "source": [
    "#Using seaborn categorical plot\n",
    "sns.catplot(x=\"team_name_home\", y=\"shots_on_target_home\", data=hometeam_wins, hue='shots_on_target_home',\n",
    "            jitter=False, legend=False, height=5, aspect=2)\n",
    "\n",
    "plt.title('Euro2020: Teams winning at Home vs Shots on target', fontsize=20, pad=35)\n",
    "\n",
    "plt.xlabel('Teams Winning at Home', fontsize=12, labelpad=15)\n",
    "plt.xticks(fontsize=10)\n",
    "\n",
    "plt.ylabel('Shots on target', fontsize=12, labelpad=10)\n",
    "plt.yticks(fontsize=10)\n",
    "\n",
    "plt.legend(title='Shots on target', bbox_to_anchor=(1, 1))\n",
    "\n",
    "plt.grid() #showing gridlines"
   ]
  },
  {
   "cell_type": "raw",
   "id": "7e4c125e",
   "metadata": {},
   "source": [
    "Euro2020: Teams winning at Home vs Defensive Duels Won"
   ]
  },
  {
   "cell_type": "code",
   "execution_count": 20,
   "id": "ee41bffe",
   "metadata": {},
   "outputs": [
    {
     "data": {
      "image/png": "[encoded data removed]",
      "text/plain": [
       "<Figure size 720x360 with 1 Axes>"
      ]
     },
     "metadata": {
      "needs_background": "light"
     },
     "output_type": "display_data"
    }
   ],
   "source": [
    "#Using seaborn categorical plot\n",
    "sns.catplot(x=\"team_name_home\", y=\"duels_won_home\", data=hometeam_wins, hue='duels_won_home',\n",
    "            jitter=False, legend=False, height=5, aspect=2)\n",
    "\n",
    "plt.title('Euro2020: Teams winning at Home vs Defensive Duels Won', fontsize=20, pad=35)\n",
    "\n",
    "plt.xlabel('Teams Winning at Home', fontsize=12, labelpad=15)\n",
    "plt.xticks(fontsize=10)\n",
    "\n",
    "plt.ylabel('Defensive Duels Won', fontsize=12, labelpad=10)\n",
    "plt.yticks(fontsize=10)\n",
    "\n",
    "plt.legend(title='Defensive Duels Won', bbox_to_anchor=(1, 1))\n",
    "\n",
    "plt.grid()#showing gridlines"
   ]
  },
  {
   "cell_type": "code",
   "execution_count": null,
   "id": "3286c32a",
   "metadata": {},
   "outputs": [],
   "source": []
  },
  {
   "cell_type": "code",
   "execution_count": null,
   "id": "fe72261b",
   "metadata": {},
   "outputs": [],
   "source": []
  }
 ],
 "metadata": {
  "kernelspec": {
   "display_name": "Python 3 (ipykernel)",
   "language": "python",
   "name": "python3"
  },
  "language_info": {
   "codemirror_mode": {
    "name": "ipython",
    "version": 3
   },
   "file_extension": ".py",
   "mimetype": "text/x-python",
   "name": "python",
   "nbconvert_exporter": "python",
   "pygments_lexer": "ipython3",
   "version": "3.8.12"
  }
 },
 "nbformat": 4,
 "nbformat_minor": 5
}
